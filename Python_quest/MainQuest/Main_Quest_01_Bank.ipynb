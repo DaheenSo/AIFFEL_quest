{
  "nbformat": 4,
  "nbformat_minor": 0,
  "metadata": {
    "colab": {
      "provenance": [],
      "authorship_tag": "ABX9TyPbtgrMat6VNWSiWkALL5v4",
      "include_colab_link": true
    },
    "kernelspec": {
      "name": "python3",
      "display_name": "Python 3"
    },
    "language_info": {
      "name": "python"
    }
  },
  "cells": [
    {
      "cell_type": "markdown",
      "metadata": {
        "id": "view-in-github",
        "colab_type": "text"
      },
      "source": [
        "<a href=\"https://colab.research.google.com/github/DaheenSo/AIFFEL_quest/blob/main/Main_Quest_01_Bank.ipynb\" target=\"_parent\"><img src=\"https://colab.research.google.com/assets/colab-badge.svg\" alt=\"Open In Colab\"/></a>"
      ]
    },
    {
      "cell_type": "code",
      "execution_count": 3,
      "metadata": {
        "colab": {
          "base_uri": "https://localhost:8080/"
        },
        "id": "AiR3uoZYOpV9",
        "outputId": "b5a384ac-8ad1-40eb-ba92-bcf40a1fe9df"
      },
      "outputs": [
        {
          "output_type": "stream",
          "name": "stdout",
          "text": [
            "(은행이름: SC은행, 예금주: 홍길동, 계좌번호: 934-64-895321, 잔고: 1,000,000원)\n",
            "홍길동 님의 입금 내역: []\n",
            "(은행이름: SC은행, 예금주: 이영희, 계좌번호: 525-88-375506, 잔고: 3,000,000원)\n",
            "이영희 님의 입금 내역: []\n"
          ]
        }
      ],
      "source": [
        "# 메인 퀘스트 1번: 은행계좌 만들기\n",
        "import random\n",
        "\n",
        "class Account:\n",
        "    # Q2: 클래스 변수 선언 (계좌 객체 개수 저장)\n",
        "    account_count = 0\n",
        "\n",
        "    # Q1: 생성자 구현\n",
        "    def __init__(self, owner, balance):\n",
        "        self.bank = \"SC은행\"\n",
        "        self.owner = owner\n",
        "        self.balance = balance\n",
        "        self.account_number = self.generate_account_number()\n",
        "        self.deposit_count = 0\n",
        "        self.deposit_history_list = []\n",
        "        self.withdraw_history_list = []\n",
        "        Account.account_count += 1\n",
        "\n",
        "    def generate_account_number(self):\n",
        "        num1 = random.randint(100, 999)\n",
        "        num2 = random.randint(10, 99)\n",
        "        num3 = random.randint(100000, 999999)\n",
        "        return f\"{num1}-{num2}-{num3}\"\n",
        "\n",
        "    # Q3: 클래스 변수 출력 메서드\n",
        "    @classmethod\n",
        "    def get_account_num(cls):\n",
        "        return cls.account_count\n",
        "\n",
        "    # Q4: 입금 메서드\n",
        "    def deposit(self, amount):\n",
        "        if amount >= 1:\n",
        "            self.balance += amount\n",
        "            self.deposit_count += 1\n",
        "            if self.deposit_count % 5 == 0:\n",
        "                interest = self.balance * 0.01\n",
        "                self.balance += interest\n",
        "                self.balance = int(self.balance)\n",
        "            self.deposit_history_list.append(amount)\n",
        "        else:\n",
        "            print(\"입금은 1원 이상만 가능합니다.\")\n",
        "\n",
        "    # Q5: 출금 메서드\n",
        "    def withdraw(self, amount):\n",
        "        if amount <= self.balance:\n",
        "            self.balance -= amount\n",
        "            self.withdraw_history_list.append(amount)\n",
        "        else:\n",
        "            print(\"잔고 이상으로 출금할 수 없습니다.\")\n",
        "\n",
        "    # Q6: 정보 출력 메서드\n",
        "    def display_info(self):\n",
        "        balance_formatted = f\"{self.balance:,}\"\n",
        "        print(f\"(은행이름: {self.bank}, 예금주: {self.owner}, 계좌번호: {self.account_number}, 잔고: {balance_formatted}원)\")\n",
        "\n",
        "    # Q10: 입금 내역 출력 메서드\n",
        "    def deposit_history(self):\n",
        "        print(f\"{self.owner} 님의 입금 내역: {self.deposit_history_list}\")\n",
        "\n",
        "    # Q10: 출금 내역 출력 메서드\n",
        "    def withdraw_history(self):\n",
        "        print(f\"{self.owner} 님의 출금 내역: {self.withdraw_history_list}\")\n",
        "\n",
        "# Q8: 여러 객체 생성 및 리스트에 저장\n",
        "accounts = [\n",
        "    Account(\"홍길동\", 1000000),\n",
        "    Account(\"김철수\", 200000),\n",
        "    Account(\"이영희\", 3000000)\n",
        "]\n",
        "\n",
        "# Q9: 잔고가 100만원 이상인 고객 정보 출력\n",
        "for account in accounts:\n",
        "    if account.balance >= 1000000:\n",
        "        account.display_info()\n",
        "        account.deposit_history()"
      ]
    },
    {
      "cell_type": "code",
      "source": [
        "# 아래와 같이 추가 제안사항을 넣었습니다.\n",
        "# 1. 입출금 내역에 날짜와 시간 기록: 입금(deposit)과 출금(withdraw) 시 날짜와 시간을 기록합니다.\n",
        "# 2. 출금 시도 시 잔액 부족 메시지 개선: 잔액 부족 시 현재 잔액과 부족한 금액을 상세하게 출력합니다.\n",
        "# 3. 출금 시 최소 금액 제한: 출금도 1원 이상만 가능하도록 제한합니다.\n",
        "# 4. 정보 출력 시 입출금 내역 함께 출력: display_info 메서드에서 입출금 내역을 함께 출력합니다.\n",
        "\n",
        "import random\n",
        "from datetime import datetime\n",
        "\n",
        "class Account:\n",
        "    account_count = 0\n",
        "\n",
        "    def __init__(self, owner, balance):\n",
        "        self.bank = \"SC은행\"\n",
        "        self.owner = owner\n",
        "        self.balance = balance\n",
        "        self.account_number = self.generate_account_number()\n",
        "        self.deposit_count = 0\n",
        "        self.deposit_history_list = []\n",
        "        self.withdraw_history_list = []\n",
        "        Account.account_count += 1\n",
        "\n",
        "    def generate_account_number(self):\n",
        "        num1 = random.randint(100, 999)\n",
        "        num2 = random.randint(10, 99)\n",
        "        num3 = random.randint(100000, 999999)\n",
        "        return f\"{num1}-{num2}-{num3}\"\n",
        "\n",
        "    @classmethod\n",
        "    def get_account_num(cls):\n",
        "        return cls.account_count\n",
        "\n",
        "    def deposit(self, amount):\n",
        "        if amount >= 1:\n",
        "            self.balance += amount\n",
        "            self.deposit_count += 1\n",
        "            if self.deposit_count % 5 == 0:\n",
        "                interest = self.balance * 0.01\n",
        "                self.balance += interest\n",
        "                self.balance = int(self.balance)\n",
        "            # 추가로 제안할 부분. 1. 입출금 내역에 날짜와 시간 기록\n",
        "            timestamp = datetime.now().strftime('%Y-%m-%d %H:%M:%S')\n",
        "            self.deposit_history_list.append((timestamp, amount))\n",
        "        else:\n",
        "            print(\"입금은 1원 이상만 가능합니다.\")\n",
        "\n",
        "    def withdraw(self, amount):\n",
        "        # 추가로 제안할 부분. 3. 출금 시 최소 금액 제한\n",
        "        if amount < 1:\n",
        "            print(\"출금은 1원 이상만 가능합니다.\")\n",
        "            return\n",
        "        if amount <= self.balance:\n",
        "            self.balance -= amount\n",
        "            # 추가로 제안할 부분. 1. 입출금 내역에 날짜와 시간 기록\n",
        "            timestamp = datetime.now().strftime('%Y-%m-%d %H:%M:%S')\n",
        "            self.withdraw_history_list.append((timestamp, amount))\n",
        "        else:\n",
        "            # 추가로 제안할 부분. 2. 출금 시도 시 잔액 부족 메시지 개선\n",
        "            print(f\"잔고 부족: 현재 잔고는 {self.balance}원입니다. {amount - self.balance}원이 부족합니다.\")\n",
        "\n",
        "    def display_info(self):\n",
        "        balance_formatted = f\"{self.balance:,}\"\n",
        "        print(f\"(은행이름: {self.bank}, 예금주: {self.owner}, 계좌번호: {self.account_number}, 잔고: {balance_formatted}원)\")\n",
        "        # 추가로 제안할 부분. 4. 정보 출력 시 입출금 내역 함께 출력\n",
        "        print(f\"{self.owner} 님의 입금 내역: {self.deposit_history_list}\")\n",
        "        print(f\"{self.owner} 님의 출금 내역: {self.withdraw_history_list}\")\n",
        "\n",
        "    def deposit_history(self):\n",
        "        print(f\"{self.owner} 님의 입금 내역:\")\n",
        "        for record in self.deposit_history_list:\n",
        "            print(record)\n",
        "\n",
        "    def withdraw_history(self):\n",
        "        print(f\"{self.owner} 님의 출금 내역:\")\n",
        "        for record in self.withdraw_history_list:\n",
        "            print(record)\n",
        "\n",
        "# 여러 객체 생성 및 리스트에 저장\n",
        "accounts = [\n",
        "    Account(\"홍길동\", 1000000),\n",
        "    Account(\"김철수\", 200000),\n",
        "    Account(\"이영희\", 3000000)\n",
        "]\n",
        "\n",
        "# 잔고가 100만원 이상인 고객 정보 출력\n",
        "for account in accounts:\n",
        "    if account.balance >= 1000000:\n",
        "        account.display_info()"
      ],
      "metadata": {
        "colab": {
          "base_uri": "https://localhost:8080/"
        },
        "id": "KYvdkHSpOyo_",
        "outputId": "55a134a0-f82b-45fe-fa30-446a5ef87b2c"
      },
      "execution_count": 4,
      "outputs": [
        {
          "output_type": "stream",
          "name": "stdout",
          "text": [
            "(은행이름: SC은행, 예금주: 홍길동, 계좌번호: 971-83-838950, 잔고: 1,000,000원)\n",
            "홍길동 님의 입금 내역: []\n",
            "홍길동 님의 출금 내역: []\n",
            "(은행이름: SC은행, 예금주: 이영희, 계좌번호: 721-57-591296, 잔고: 3,000,000원)\n",
            "이영희 님의 입금 내역: []\n",
            "이영희 님의 출금 내역: []\n"
          ]
        }
      ]
    },
    {
      "cell_type": "code",
      "source": [],
      "metadata": {
        "id": "40ARwBWIPgE5"
      },
      "execution_count": null,
      "outputs": []
    }
  ]
}