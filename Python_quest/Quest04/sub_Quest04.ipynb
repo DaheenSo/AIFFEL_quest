{
  "nbformat": 4,
  "nbformat_minor": 0,
  "metadata": {
    "colab": {
      "provenance": [],
      "include_colab_link": true
    },
    "kernelspec": {
      "name": "python3",
      "display_name": "Python 3"
    },
    "language_info": {
      "name": "python"
    }
  },
  "cells": [
    {
      "cell_type": "markdown",
      "metadata": {
        "id": "view-in-github",
        "colab_type": "text"
      },
      "source": [
        "<a href=\"https://colab.research.google.com/github/DaheenSo/AIFFEL_quest/blob/main/sub_Quest04.ipynb\" target=\"_parent\"><img src=\"https://colab.research.google.com/assets/colab-badge.svg\" alt=\"Open In Colab\"/></a>"
      ]
    },
    {
      "cell_type": "code",
      "execution_count": null,
      "metadata": {
        "colab": {
          "base_uri": "https://localhost:8080/"
        },
        "id": "Cv5-vyQ-cn8d",
        "outputId": "8de78e8c-fd51-4588-d3eb-93f36e6e033c"
      },
      "outputs": [
        {
          "output_type": "stream",
          "name": "stdout",
          "text": [
            "첫번째 정수를 입력해주세요.2\n",
            "두번째 정수를 입력해주세요.0\n",
            "연산자(+,-,*,/,**)를 입력해주세요.(종료를 원하시면 0을 입력해주세요)/\n",
            "0은 나눌 수 없습니다.\n",
            "첫번째 정수를 입력해주세요.1\n",
            "두번째 정수를 입력해주세요.3\n",
            "연산자(+,-,*,/,**)를 입력해주세요.(종료를 원하시면 0을 입력해주세요)0\n",
            "프로그램을 종료합니다.\n"
          ]
        }
      ],
      "source": [
        "from math import *\n",
        "\n",
        "while True: # 특정 조건('0') 이 들어오면 반복을 멈춘다.\n",
        "  try:\n",
        "    num1 = float(input('첫번째 정수를 입력해주세요.')) # float 처리를 한 이유는 계산기이기 때문에 정수형 뿐만 아니라 실수형도 들어갈 수 있다.\n",
        "    num2 = float(input('두번째 정수를 입력해주세요.'))\n",
        "\n",
        "  except ValueError: # 숫자가 아닌 다른 문자형이 들어갔을 경우 예외처리가 되면서 숫자 입력으로 돌아간다.\n",
        "    print('수가 아닙니다.')\n",
        "\n",
        "  else: # 위 num1, num2에 정수가 들어갈 경우에 실행\n",
        "    calc = input('연산자(+,-,*,/,**)를 입력해주세요.(종료를 원하시면 0을 입력해주세요)')\n",
        "\n",
        "    if calc == '+':\n",
        "      print(num1+num2)\n",
        "    elif calc == '-':\n",
        "      print(num1-num2)\n",
        "    elif calc == '*':\n",
        "      print(num1*num2)\n",
        "    elif calc == '/':\n",
        "      # if num2 == 0:\n",
        "      #   print('0은 나눌 수 없습니다.)\n",
        "      # 로 작성했으나 조건에 있는 ZeroDivisionError를 처리해야 하므로 try except으로 변경\n",
        "      try:\n",
        "        print(num1/num2)\n",
        "      except ZeroDivisionError: # 두번째 받은 숫자가 0일 경우 0으로 나눌 수 없습니다. 가 뜨면서 숫자 입력으로 돌아간다.\n",
        "        print('0은 나눌 수 없습니다.')\n",
        "    elif calc == '**':\n",
        "      print(pow(num1, num2))\n",
        "    elif calc == '0': # 0을 받으면 종료로 하려고 했으나 calc 에서 받아오는 값은 문자형이므로 '0'으로 변경함\n",
        "      print('프로그램을 종료합니다.')\n",
        "      break\n",
        "    else: # +, -, *, /, **, 0 을 제외한 입력 값이 들어갈 경우 숫자 입력으로 돌아간다.\n",
        "      print('지원하지 않는 연사자입니다.')"
      ]
    },
    {
      "cell_type": "markdown",
      "source": [
        "\n",
        "[[ 중간 진행 과정 ]]\n",
        "\n",
        "[ 오류 ]\n",
        "\n",
        "처음에는 정수 입력, 연산자 입력을 이어서 진행하여 코드를 짜다가 수정의 필요성이 있다는 생각이 들었고,\n",
        "\n",
        "-> 변경\n",
        "정수 입력 ->  try catch,\n",
        "연산자 입력 -> try catch 의 순으로 진행하는 것으로 바꿈\n",
        "\n",
        "\n",
        "---\n",
        "\n",
        "\n",
        "[ 의문 ]\n",
        "1. 에러가 있을 때 굳이 코드 안에 continue 를 넣을 필요가 있는가?\n",
        "Chat GPT 에서는 continue 를 적는 편이 낫다고 추천하였으나\n",
        "-> 필요성을 구글과 GPT 로 재검토한 결과\n",
        "-> 가독성 때문이지 작동 상 이상이 없고 속도 차이는 미미하다는 결론.\n",
        "\n",
        "\n",
        "2. ValueError 를 사용하는 경우와,\n",
        "에러를 예외 처리하는 Exception 을 사용하는 경우,\n",
        "두 방식에 차이가 있을까?\n",
        "\n",
        "-> 결론\n",
        "1. 구체성: ValueError를 사용하면 특정 예외에 대해 더 구체적이고 명확하게 처리할 수 있습니다. 반면, Exception을 사용하면 모든 예외를 포괄적으로 처리하므로 코드가 덜 구체적이 됩니다.\n",
        "2. 유지보수성: Exception을 사용하면 모든 예외를 포괄하므로 코드가 덜 명확해질 수 있습니다. 이는 디버깅을 어렵게 만들 수 있습니다.\n",
        "3. 안전성: 예외 처리를 지나치게 포괄적으로 하면 예상치 못한 예외가 숨겨질 수 있습니다. 따라서 가능하면 구체적인 예외를 처리하는 것이 좋습니다.\n",
        "**** 출처 : chatGPT**\n",
        "\n",
        "\n",
        "---\n",
        "[ 개선점 ]\n",
        "\n",
        "스스로 찾은 개선점\n",
        "chat gpt 는 정수 입력 시 int 를 제시했으나\n",
        "-> 계산기이므로 소수점도 입력 받도록\n",
        "int 가 아니라 float 를 사용하는 편이 낫다고 생각함. (유제민)\n"
      ],
      "metadata": {
        "id": "OQTZIVQDQMMD"
      }
    },
    {
      "cell_type": "markdown",
      "source": [
        "[[ 회고 ]]\n",
        "* 소다흰\n",
        "\n",
        "유제민님께서 스스로의 방식으로 코드를 짜시며 문제 해결해가는 과정을 보고 배움을 얻었습니다. ChatGPT와 구글이라는 툴이 있기는 하나,\n",
        "\n",
        "학습의 측면에서 보면,\n",
        "1. 직접 짠 코드에서 에러가 생기거나,\n",
        "2. 그것이 구글 검색/AI의 모범 답안과 다른 경우,\n",
        "\n",
        "본인의 작업물의 문제점 또는 개선점을 찾으면서 배움을 확장해갈 수 있는 것 같습니다.\n",
        "\n",
        "* 유제민\n",
        "제가 코드를 짜보면서 그 코드를 토대로 다흰님께서 GPT에 질문 하는 형식으로 진행을 했습니다. 제가 짠 코드와 GPT가 알려주는 코드에 다른 점을 확인해 보고 왜 그렇게 짜야하는지 예를 들면 except 처리를 할 때 뒤에 ValueError나 ZeroDivisionError를 왜 적어야 하는 지에 대해 자세히 알 수 있어서 좋았습니다."
      ],
      "metadata": {
        "id": "z18AO6QqUpFD"
      }
    },
    {
      "cell_type": "markdown",
      "source": [],
      "metadata": {
        "id": "AEl9mEAbYWue"
      }
    }
  ]
}
